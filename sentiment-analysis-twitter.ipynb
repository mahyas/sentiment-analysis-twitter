{
 "cells": [
  {
   "cell_type": "code",
   "execution_count": null,
   "id": "naval-perry",
   "metadata": {},
   "outputs": [],
   "source": [
    "import numpy as np\n",
    "import pandas as pd"
   ]
  },
  {
   "cell_type": "code",
   "execution_count": null,
   "id": "deluxe-kansas",
   "metadata": {},
   "outputs": [],
   "source": [
    "#load data\n",
    "Train = pd.read_csv(\"train_E6oV3lV.csv\")\n",
    "data=Train\n",
    "data.head()"
   ]
  },
  {
   "cell_type": "code",
   "execution_count": null,
   "id": "still-crown",
   "metadata": {},
   "outputs": [],
   "source": [
    "data['label'].value_counts()"
   ]
  },
  {
   "cell_type": "code",
   "execution_count": null,
   "id": "seven-verification",
   "metadata": {},
   "outputs": [],
   "source": [
    "import seaborn as sns\n",
    "ax=sns.countplot(data.label)"
   ]
  },
  {
   "cell_type": "code",
   "execution_count": null,
   "id": "looking-equipment",
   "metadata": {},
   "outputs": [],
   "source": [
    "# removing usernames\n",
    "data['new_tweet'] = data.tweet.str.replace('@user', '')\n",
    "data.head()"
   ]
  },
  {
   "cell_type": "code",
   "execution_count": null,
   "id": "surface-scottish",
   "metadata": {},
   "outputs": [],
   "source": [
    "#Removing Punctuations, Numbers, and Special Characters\n",
    "#[a-zA-Z] = Any single character in the range a-z or A-Z\n",
    "# ^ = Start of line \n",
    "# $ = End of line \n",
    "#^[a-zA-Z] means any a-z or A-Z at the start of a line\n",
    "#[^a-zA-Z] means any character that IS NOT a-z OR A-Z\n",
    "data['new_tweet'] = data['new_tweet'].str.replace(\"[^a-zA-Z#]\", \" \")\n",
    "data['new_tweet'] = data['new_tweet'].str.replace(\"#\", \"\")\n",
    "data.head(30)"
   ]
  },
  {
   "cell_type": "code",
   "execution_count": null,
   "id": "intelligent-medline",
   "metadata": {},
   "outputs": [],
   "source": [
    "# get most common words in training dataset\n",
    "from collections import Counter \n",
    "all_words = []\n",
    "for line in list(data['new_tweet']):\n",
    "    words = line.split()\n",
    "    for word in words:\n",
    "        all_words.append(word.lower())\n",
    "a=Counter(all_words).most_common(10)\n",
    "a"
   ]
  },
  {
   "cell_type": "code",
   "execution_count": null,
   "id": "fiscal-floor",
   "metadata": {},
   "outputs": [],
   "source": [
    "#tokenizing\n",
    "data['new_tweet'] = data['new_tweet'].apply(lambda x: x.split())\n",
    "data.head()"
   ]
  },
  {
   "cell_type": "code",
   "execution_count": null,
   "id": "sapphire-transmission",
   "metadata": {},
   "outputs": [],
   "source": [
    "#stemmer\n",
    "from nltk.stem.snowball import SnowballStemmer\n",
    "stemmer = SnowballStemmer(\"english\")\n",
    "\n",
    "data['new_tweet']= data['new_tweet'].apply(lambda x: [stemmer.stem(i) for i in x])\n",
    "data.head()"
   ]
  },
  {
   "cell_type": "code",
   "execution_count": null,
   "id": "absolute-playing",
   "metadata": {},
   "outputs": [],
   "source": [
    "import nltk\n",
    "nltk.download('stopwords')"
   ]
  },
  {
   "cell_type": "code",
   "execution_count": null,
   "id": "seventh-breach",
   "metadata": {},
   "outputs": [],
   "source": [
    "from nltk.corpus import stopwords\n",
    "from nltk.tokenize import word_tokenize\n",
    "\n",
    "#stopwords = set(stopwords.words('english'))\n",
    "stopwords = nltk.corpus.stopwords.words('english')"
   ]
  },
  {
   "cell_type": "code",
   "execution_count": null,
   "id": "color-dependence",
   "metadata": {},
   "outputs": [],
   "source": [
    "newStopWords = ['u','go','got','via','or','ur','us','in','i','let','the','to','is','amp','make','one','day','days','get']\n",
    "stopwords.extend(newStopWords)"
   ]
  },
  {
   "cell_type": "code",
   "execution_count": null,
   "id": "young-wonder",
   "metadata": {},
   "outputs": [],
   "source": [
    "import string \n",
    "\n",
    "def process(text):\n",
    "    # Check characters to see if they are in punctuation\n",
    "    nopunc = set(char for char in list(text) if char not in string.punctuation)\n",
    "    # Join the characters to form the string.\n",
    "    nopunc = \" \".join(nopunc)\n",
    "    # remove any stopwords if present\n",
    "    return [word for word in nopunc.lower().split() if word.lower() not in stopwords]"
   ]
  },
  {
   "cell_type": "code",
   "execution_count": null,
   "id": "golden-apache",
   "metadata": {},
   "outputs": [],
   "source": [
    "data['new_tweet'] = data['new_tweet'].apply(process) \n",
    "data.head()"
   ]
  },
  {
   "cell_type": "code",
   "execution_count": null,
   "id": "improving-batch",
   "metadata": {},
   "outputs": [],
   "source": [
    "from wordcloud import WordCloud\n",
    "import matplotlib.pyplot as plt\n",
    "\n",
    "# split sentences to get individual words\n",
    "words = []\n",
    "for line in data['new_tweet']: \n",
    "    words.extend(line)\n",
    "    \n",
    "# create a word frequency dictionary\n",
    "wordfreq = Counter(words)\n",
    "# draw a Word Cloud with word frequencies\n",
    "wordcloud = WordCloud(\n",
    "    background_color='white',\n",
    "    max_words=2000,\n",
    "    stopwords=stopwords\n",
    "   ).generate_from_frequencies(wordfreq)\n",
    "plt.figure(figsize=(10,9))\n",
    "plt.imshow(wordcloud, interpolation='bilinear')\n",
    "plt.axis(\"off\")\n",
    "plt.show()"
   ]
  },
  {
   "cell_type": "code",
   "execution_count": null,
   "id": "artistic-indication",
   "metadata": {},
   "outputs": [],
   "source": [
    "def string (text):\n",
    "    to_return=\"\"\n",
    "    for i in list(text):\n",
    "        to_return += str(i) + \" \"\n",
    "    to_return = to_return[:-1]\n",
    "    \n",
    "    return to_return\n",
    "    \n",
    "       \n",
    "data['new_tweet'] = data['new_tweet'].apply(string)\n",
    "data.head()  "
   ]
  },
  {
   "cell_type": "code",
   "execution_count": null,
   "id": "improving-discovery",
   "metadata": {},
   "outputs": [],
   "source": [
    "positive = [r for r in data['new_tweet'][data['label']==0]]\n",
    "pos = ''.join(positive)\n",
    "\n",
    "# draw a Word Cloud with word frequencies\n",
    "wordcloud = WordCloud(\n",
    "    background_color='white',\n",
    "    max_words=2000,\n",
    "    stopwords=stopwords\n",
    "   ).generate(pos)\n",
    "plt.figure(figsize=(10,9))\n",
    "plt.imshow(wordcloud, interpolation='bilinear')\n",
    "plt.axis(\"off\")\n",
    "plt.show()"
   ]
  },
  {
   "cell_type": "code",
   "execution_count": null,
   "id": "laden-chest",
   "metadata": {},
   "outputs": [],
   "source": [
    "negative = [r for r in data['new_tweet'][data['label']==1]]\n",
    "neg = ''.join(negative)\n",
    "\n",
    "# draw a Word Cloud with word frequencies\n",
    "wordcloud = WordCloud(\n",
    "    background_color='black',\n",
    "    max_words=2000,\n",
    "    stopwords=stopwords\n",
    "   ).generate(neg)\n",
    "plt.figure(figsize=(10,9))\n",
    "plt.imshow(wordcloud, interpolation='bilinear')\n",
    "plt.axis(\"off\")\n",
    "plt.show()"
   ]
  },
  {
   "cell_type": "code",
   "execution_count": null,
   "id": "prompt-proposition",
   "metadata": {},
   "outputs": [],
   "source": [
    "data.drop([\"id\",\"tweet\" ],axis=1,inplace=True)\n",
    "data.head()"
   ]
  },
  {
   "cell_type": "code",
   "execution_count": null,
   "id": "provincial-weapon",
   "metadata": {},
   "outputs": [],
   "source": [
    "#Split data into training and testing sets \n",
    "from sklearn.feature_extraction.text import CountVectorizer\n",
    "from sklearn.model_selection import train_test_split\n",
    "x_train, x_test, y_train, y_test = train_test_split(data[\"new_tweet\"], \n",
    "                                                    data[\"label\"], test_size = 0.2, random_state = 42)\n",
    "\n",
    "print(\"training set :\",x_train.shape,y_train.shape)\n",
    "print(\"testing set :\",x_test.shape,y_test.shape)"
   ]
  },
  {
   "cell_type": "code",
   "execution_count": null,
   "id": "previous-credits",
   "metadata": {},
   "outputs": [],
   "source": [
    "from sklearn.feature_extraction.text import CountVectorizer, TfidfTransformer\n",
    "count_vect = CountVectorizer(stop_words='english')\n",
    "transformer = TfidfTransformer(norm='l2',sublinear_tf=True)"
   ]
  },
  {
   "cell_type": "code",
   "execution_count": null,
   "id": "disciplinary-collectible",
   "metadata": {},
   "outputs": [],
   "source": [
    "x_train_counts = count_vect.fit_transform(x_train)\n",
    "x_train_tfidf = transformer.fit_transform(x_train_counts)\n",
    "\n",
    "print(x_train_counts.shape)\n",
    "print(x_train_tfidf.shape)"
   ]
  },
  {
   "cell_type": "code",
   "execution_count": null,
   "id": "bulgarian-decline",
   "metadata": {},
   "outputs": [],
   "source": [
    "x_test_counts = count_vect.transform(x_test)\n",
    "x_test_tfidf = transformer.transform(x_test_counts)\n",
    "\n",
    "print(x_test_counts.shape)\n",
    "print(x_test_tfidf.shape)"
   ]
  },
  {
   "cell_type": "markdown",
   "id": "geological-dictionary",
   "metadata": {},
   "source": [
    "Model building"
   ]
  },
  {
   "cell_type": "code",
   "execution_count": null,
   "id": "decreased-imaging",
   "metadata": {},
   "outputs": [],
   "source": [
    "#### Random Forest Classifier\n",
    "from sklearn.ensemble import RandomForestClassifier\n",
    "model = RandomForestClassifier(n_estimators=200)\n",
    "model.fit(x_train_tfidf,y_train)"
   ]
  },
  {
   "cell_type": "code",
   "execution_count": null,
   "id": "sweet-hybrid",
   "metadata": {},
   "outputs": [],
   "source": [
    "predictions = model.predict(x_test_tfidf)"
   ]
  },
  {
   "cell_type": "code",
   "execution_count": null,
   "id": "phantom-enzyme",
   "metadata": {},
   "outputs": [],
   "source": [
    "#Accuracy_score\n",
    "from sklearn.metrics import accuracy_score\n",
    "accuracy_score(y_test,predictions)*100"
   ]
  },
  {
   "cell_type": "code",
   "execution_count": null,
   "id": "mechanical-aspect",
   "metadata": {},
   "outputs": [],
   "source": [
    "from sklearn.metrics import confusion_matrix,f1_score\n",
    "confusion_matrix(y_test,predictions)"
   ]
  },
  {
   "cell_type": "code",
   "execution_count": null,
   "id": "demographic-death",
   "metadata": {},
   "outputs": [],
   "source": [
    "#f1-score\n",
    "f1_score(y_test,predictions)"
   ]
  },
  {
   "cell_type": "code",
   "execution_count": null,
   "id": "simplified-retailer",
   "metadata": {},
   "outputs": [],
   "source": [
    "predictions"
   ]
  },
  {
   "cell_type": "code",
   "execution_count": null,
   "id": "fewer-wheel",
   "metadata": {},
   "outputs": [],
   "source": [
    "####Logistic Regression"
   ]
  },
  {
   "cell_type": "code",
   "execution_count": null,
   "id": "subtle-florence",
   "metadata": {},
   "outputs": [],
   "source": [
    "from sklearn.linear_model import LogisticRegression\n",
    "logmodel = LogisticRegression(random_state=400 )\n",
    "logmodel.fit(x_train_tfidf,y_train)"
   ]
  },
  {
   "cell_type": "code",
   "execution_count": null,
   "id": "indie-daily",
   "metadata": {},
   "outputs": [],
   "source": [
    "log_predictions = logmodel.predict(x_test_tfidf)"
   ]
  },
  {
   "cell_type": "code",
   "execution_count": null,
   "id": "linear-sheriff",
   "metadata": {},
   "outputs": [],
   "source": [
    "from sklearn.metrics import confusion_matrix,f1_score\n",
    "confusion_matrix(y_test,log_predictions)"
   ]
  },
  {
   "cell_type": "code",
   "execution_count": null,
   "id": "frozen-chance",
   "metadata": {},
   "outputs": [],
   "source": [
    "f1_score(y_test,log_predictions)"
   ]
  },
  {
   "cell_type": "code",
   "execution_count": null,
   "id": "engaged-mobility",
   "metadata": {},
   "outputs": [],
   "source": [
    "from sklearn.metrics import accuracy_score\n",
    "accuracy_score(y_test,log_predictions)*100"
   ]
  },
  {
   "cell_type": "code",
   "execution_count": null,
   "id": "accurate-accreditation",
   "metadata": {},
   "outputs": [],
   "source": [
    "####Gradient Boosting Regressor"
   ]
  },
  {
   "cell_type": "code",
   "execution_count": null,
   "id": "international-script",
   "metadata": {},
   "outputs": [],
   "source": [
    "from sklearn.ensemble import GradientBoostingRegressor\n",
    "\n",
    "alg= GradientBoostingRegressor(n_estimators= 550, learning_rate= 0.1, max_depth= 3)\n",
    "alg.fit(x_train_tfidf,y_train)"
   ]
  },
  {
   "cell_type": "code",
   "execution_count": null,
   "id": "spare-silicon",
   "metadata": {},
   "outputs": [],
   "source": [
    "alg_predictions = logmodel.predict(x_test_tfidf)"
   ]
  },
  {
   "cell_type": "code",
   "execution_count": null,
   "id": "heated-accessory",
   "metadata": {},
   "outputs": [],
   "source": [
    "from sklearn.metrics import confusion_matrix,f1_score\n",
    "confusion_matrix(y_test,alg_predictions)"
   ]
  },
  {
   "cell_type": "code",
   "execution_count": null,
   "id": "western-effects",
   "metadata": {},
   "outputs": [],
   "source": [
    "f1_score(y_test,alg_predictions)"
   ]
  },
  {
   "cell_type": "code",
   "execution_count": null,
   "id": "independent-framework",
   "metadata": {},
   "outputs": [],
   "source": [
    "from sklearn.metrics import accuracy_score\n",
    "accuracy_score(y_test,alg_predictions)*100"
   ]
  },
  {
   "cell_type": "code",
   "execution_count": null,
   "id": "integral-grace",
   "metadata": {},
   "outputs": [],
   "source": []
  }
 ],
 "metadata": {
  "kernelspec": {
   "display_name": "Python 3",
   "language": "python",
   "name": "python3"
  },
  "language_info": {
   "codemirror_mode": {
    "name": "ipython",
    "version": 3
   },
   "file_extension": ".py",
   "mimetype": "text/x-python",
   "name": "python",
   "nbconvert_exporter": "python",
   "pygments_lexer": "ipython3",
   "version": "3.6.8"
  }
 },
 "nbformat": 4,
 "nbformat_minor": 5
}
